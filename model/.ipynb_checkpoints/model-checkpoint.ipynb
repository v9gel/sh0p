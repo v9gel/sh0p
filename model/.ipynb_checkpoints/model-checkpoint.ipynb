{
 "cells": [
  {
   "cell_type": "markdown",
   "metadata": {},
   "source": [
    "## Подготовка датасета к работе\n",
    "Обучение производится на [Instacart Market Basket Analysis](https://www.kaggle.com/c/instacart-market-basket-analysis)"
   ]
  },
  {
   "cell_type": "code",
   "execution_count": null,
   "metadata": {},
   "outputs": [],
   "source": [
    "file = 'order_products__prior.csv'\n",
    "\n",
    "f = open('order_products__prior.csv')\n",
    "f2 = open('order.txt', 'a')\n",
    "\n",
    "i = 0\n",
    "prev = '1'\n",
    "\n",
    "for l in f:\n",
    "    if i != 0:\n",
    "        array = l.split(',')\n",
    "        if array[0] == prev:\n",
    "            f2.write(array[1] + ' ')\n",
    "        else:\n",
    "            f2.write('\\n')\n",
    "            f2.write(array[1] + ' ')\n",
    "            prev = array[0]\n",
    "    i = i + 1\n",
    "            \n",
    "            \n",
    "            \n",
    "f.close()\n",
    "f2.close()\n",
    "        "
   ]
  },
  {
   "cell_type": "markdown",
   "metadata": {},
   "source": [
    "## Обучение модели"
   ]
  },
  {
   "cell_type": "code",
   "execution_count": null,
   "metadata": {},
   "outputs": [],
   "source": [
    "from __future__ import print_function\n",
    "\n",
    "\n",
    "import numpy as np\n",
    "import gensim\n",
    "import string\n",
    "\n",
    "from keras.callbacks import LambdaCallback\n",
    "from keras.layers.recurrent import LSTM\n",
    "from keras.layers.embeddings import Embedding\n",
    "from keras.layers import Dense, Activation\n",
    "from keras.models import Sequential\n",
    "from keras.utils.data_utils import get_file\n",
    "from gensim.models import Word2Vec"
   ]
  },
  {
   "cell_type": "code",
   "execution_count": null,
   "metadata": {},
   "outputs": [],
   "source": [
    "print('\\nПолучение текста...')\n",
    "#url = 'https://raw.githubusercontent.com/v9gel/lstm-recommendation-system/master/order1.txt'\n",
    "#path = get_file('order.txt')\n",
    "path = 'order.txt'\n",
    "print('\\nПодготовка предложений the sentences...')\n",
    "max_sentence_len = 40\n",
    "with open(path) as file_:\n",
    "  docs = file_.readlines()\n",
    "sentences = [[word for word in doc.lower().translate(string.punctuation).split()[:max_sentence_len]] for doc in docs]\n",
    "print('Количество предложений:', len(sentences))\n",
    "\n",
    "\n",
    "model = Word2Vec(sentences, size=4, window=5, min_count=1, workers=16, sg=0, negative=5)\n",
    "word_vectors = model.wv\n",
    "print(\"Количество векторов слов: {}\".format(len(word_vectors.vocab)))\n"
   ]
  },
  {
   "cell_type": "code",
   "execution_count": null,
   "metadata": {},
   "outputs": [],
   "source": [
    "# Сохранение модели\n",
    "model.save(\"word2vec.model\")"
   ]
  },
  {
   "cell_type": "code",
   "execution_count": null,
   "metadata": {},
   "outputs": [],
   "source": [
    "# Импорт модели\n",
    "model = gensim.models.Word2Vec.load(\"word2vec.model\")"
   ]
  },
  {
   "cell_type": "code",
   "execution_count": null,
   "metadata": {},
   "outputs": [],
   "source": [
    "t = model.wv.most_similar_cosmul(positive=['1'])"
   ]
  },
  {
   "cell_type": "code",
   "execution_count": null,
   "metadata": {},
   "outputs": [],
   "source": [
    "# Пример работы\n",
    "import json\n",
    "json.dumps(t)"
   ]
  }
 ],
 "metadata": {
  "kernelspec": {
   "display_name": "Python 3",
   "language": "python",
   "name": "python3"
  },
  "language_info": {
   "codemirror_mode": {
    "name": "ipython",
    "version": 3
   },
   "file_extension": ".py",
   "mimetype": "text/x-python",
   "name": "python",
   "nbconvert_exporter": "python",
   "pygments_lexer": "ipython3",
   "version": "3.6.5"
  }
 },
 "nbformat": 4,
 "nbformat_minor": 2
}
